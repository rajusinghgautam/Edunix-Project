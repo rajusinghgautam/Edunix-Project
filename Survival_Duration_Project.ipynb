{
  "nbformat": 4,
  "nbformat_minor": 0,
  "metadata": {
    "colab": {
      "provenance": [],
      "authorship_tag": "ABX9TyMmB7JAMp9284q2/oyirCtQ",
      "include_colab_link": true
    },
    "kernelspec": {
      "name": "python3",
      "display_name": "Python 3"
    },
    "language_info": {
      "name": "python"
    }
  },
  "cells": [
    {
      "cell_type": "markdown",
      "metadata": {
        "id": "view-in-github",
        "colab_type": "text"
      },
      "source": [
        "<a href=\"https://colab.research.google.com/github/rajusinghgautam/Edunix-Project/blob/main/Survival_Duration_Project.ipynb\" target=\"_parent\"><img src=\"https://colab.research.google.com/assets/colab-badge.svg\" alt=\"Open In Colab\"/></a>"
      ]
    },
    {
      "cell_type": "code",
      "source": [
        "class DurationOfSurvival:\n",
        "    def __init__(self, age):\n",
        "        self.age = age\n",
        "        self.months = age * 12\n",
        "        self.weeks = (age * 365 + age // 4) // 7  # Account for leap years approximately\n",
        "        self.days = age * 365 + age // 4  # Adding one extra day for each leap year\n",
        "        self.hours = self.days * 24\n",
        "        self.minutes = self.hours * 60\n",
        "        self.seconds = self.minutes * 60\n",
        "\n",
        "    def get_duration(self, unit):\n",
        "        unit = unit.strip().lower()\n",
        "        if unit in ['months', 'month', 'm']:\n",
        "            return f'You have lived for {self.months:,} Months'\n",
        "        elif unit in ['weeks', 'week', 'w']:\n",
        "            return f'You have lived for {self.weeks:,} Weeks'\n",
        "        elif unit in ['days', 'day', 'd']:\n",
        "            return f'You have lived for {self.days:,} Days'\n",
        "        elif unit in ['hours', 'hour', 'h']:\n",
        "            return f'You have lived for {self.hours:,} Hours'\n",
        "        elif unit in ['minutes', 'minute', 'min', 'mi']:\n",
        "            return f'You have lived for {self.minutes:,} Minutes'\n",
        "        elif unit in ['seconds', 'second', 'sec', 's']:\n",
        "            return f'You have lived for {self.seconds:,} Seconds'\n",
        "        else:\n",
        "            return 'Your choice is not available'\n",
        "\n",
        "def main():\n",
        "    print(\"Welcome to the Duration of Survival Calculator!\")\n",
        "    try:\n",
        "        age = int(input(\"What's your age? \"))\n",
        "        if age < 0:\n",
        "            raise ValueError(\"Age cannot be negative\")\n",
        "    except ValueError as ve:\n",
        "        print(f\"Invalid input: {ve}\")\n",
        "        return\n",
        "\n",
        "    print(\"\\nPlease choose a time unit:\")\n",
        "    print(\"Months, Weeks, Days, Hours, Minutes, Seconds\")\n",
        "    print(\"Note: You can write the first letter or the full name of the time unit.\")\n",
        "\n",
        "    unit = input(\"\\nEnter your choice: \")\n",
        "    duration_calculator = DurationOfSurvival(age)\n",
        "    result = duration_calculator.get_duration(unit)\n",
        "    print(f\"\\n{result}\")\n",
        "\n",
        "if __name__ == \"__main__\":\n",
        "    main()\n"
      ],
      "metadata": {
        "colab": {
          "base_uri": "https://localhost:8080/"
        },
        "id": "nipjBmc3zelg",
        "outputId": "d3d390a4-7a44-4041-d2c7-4c3a2b60d3e2"
      },
      "execution_count": null,
      "outputs": [
        {
          "output_type": "stream",
          "name": "stdout",
          "text": [
            "Welcome to the Duration of Survival Calculator!\n",
            "What's your age? 25\n",
            "\n",
            "Please choose a time unit:\n",
            "Months, Weeks, Days, Hours, Minutes, Seconds\n",
            "Note: You can write the first letter or the full name of the time unit.\n",
            "\n",
            "Enter your choice: S\n",
            "\n",
            "You have lived for 788,918,400 Seconds\n"
          ]
        }
      ]
    }
  ]
}